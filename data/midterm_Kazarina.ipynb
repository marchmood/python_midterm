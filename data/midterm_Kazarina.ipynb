{
 "cells": [
  {
   "cell_type": "code",
   "execution_count": 1,
   "id": "73bb35b6-faad-4417-8ba6-ebc45f0d2821",
   "metadata": {},
   "outputs": [],
   "source": [
    "import pandas as pd"
   ]
  },
  {
   "cell_type": "markdown",
   "id": "8aebdd06-79f8-48da-ac9d-7a7143016cec",
   "metadata": {},
   "source": [
    "FIRST TASK - Is there a company that has no difference between the Close and Adj Close columns?"
   ]
  },
  {
   "cell_type": "code",
   "execution_count": 15,
   "id": "a798b702-03c5-4279-b2ab-13e64b727cdb",
   "metadata": {},
   "outputs": [],
   "source": [
    "df_A = pd.read_csv('A.csv') #it does not contain the same columns"
   ]
  },
  {
   "cell_type": "code",
   "execution_count": 16,
   "id": "8c068705-588b-4587-8917-8c7a30c96c0f",
   "metadata": {},
   "outputs": [
    {
     "data": {
      "text/html": [
       "<div>\n",
       "<style scoped>\n",
       "    .dataframe tbody tr th:only-of-type {\n",
       "        vertical-align: middle;\n",
       "    }\n",
       "\n",
       "    .dataframe tbody tr th {\n",
       "        vertical-align: top;\n",
       "    }\n",
       "\n",
       "    .dataframe thead th {\n",
       "        text-align: right;\n",
       "    }\n",
       "</style>\n",
       "<table border=\"1\" class=\"dataframe\">\n",
       "  <thead>\n",
       "    <tr style=\"text-align: right;\">\n",
       "      <th></th>\n",
       "      <th>Date</th>\n",
       "      <th>High</th>\n",
       "      <th>Low</th>\n",
       "      <th>Open</th>\n",
       "      <th>Close</th>\n",
       "      <th>Volume</th>\n",
       "      <th>Adj Close</th>\n",
       "    </tr>\n",
       "  </thead>\n",
       "  <tbody>\n",
       "    <tr>\n",
       "      <th>0</th>\n",
       "      <td>2017-11-13</td>\n",
       "      <td>67.389999</td>\n",
       "      <td>66.250000</td>\n",
       "      <td>66.449997</td>\n",
       "      <td>67.129997</td>\n",
       "      <td>1536400.0</td>\n",
       "      <td>64.595924</td>\n",
       "    </tr>\n",
       "    <tr>\n",
       "      <th>1</th>\n",
       "      <td>2017-11-14</td>\n",
       "      <td>67.800003</td>\n",
       "      <td>66.889999</td>\n",
       "      <td>66.980003</td>\n",
       "      <td>67.459999</td>\n",
       "      <td>2426200.0</td>\n",
       "      <td>64.913490</td>\n",
       "    </tr>\n",
       "    <tr>\n",
       "      <th>2</th>\n",
       "      <td>2017-11-15</td>\n",
       "      <td>67.559998</td>\n",
       "      <td>66.910004</td>\n",
       "      <td>67.290001</td>\n",
       "      <td>67.309998</td>\n",
       "      <td>2042300.0</td>\n",
       "      <td>64.769135</td>\n",
       "    </tr>\n",
       "    <tr>\n",
       "      <th>3</th>\n",
       "      <td>2017-11-16</td>\n",
       "      <td>68.949997</td>\n",
       "      <td>67.449997</td>\n",
       "      <td>67.500000</td>\n",
       "      <td>68.739998</td>\n",
       "      <td>2300400.0</td>\n",
       "      <td>66.145172</td>\n",
       "    </tr>\n",
       "    <tr>\n",
       "      <th>4</th>\n",
       "      <td>2017-11-17</td>\n",
       "      <td>69.089996</td>\n",
       "      <td>68.290001</td>\n",
       "      <td>68.529999</td>\n",
       "      <td>68.790001</td>\n",
       "      <td>1823100.0</td>\n",
       "      <td>66.193275</td>\n",
       "    </tr>\n",
       "    <tr>\n",
       "      <th>...</th>\n",
       "      <td>...</td>\n",
       "      <td>...</td>\n",
       "      <td>...</td>\n",
       "      <td>...</td>\n",
       "      <td>...</td>\n",
       "      <td>...</td>\n",
       "      <td>...</td>\n",
       "    </tr>\n",
       "    <tr>\n",
       "      <th>1254</th>\n",
       "      <td>2022-11-07</td>\n",
       "      <td>138.080002</td>\n",
       "      <td>135.559998</td>\n",
       "      <td>136.850006</td>\n",
       "      <td>138.029999</td>\n",
       "      <td>1213600.0</td>\n",
       "      <td>138.029999</td>\n",
       "    </tr>\n",
       "    <tr>\n",
       "      <th>1255</th>\n",
       "      <td>2022-11-08</td>\n",
       "      <td>140.690002</td>\n",
       "      <td>136.600006</td>\n",
       "      <td>138.500000</td>\n",
       "      <td>138.750000</td>\n",
       "      <td>1028100.0</td>\n",
       "      <td>138.750000</td>\n",
       "    </tr>\n",
       "    <tr>\n",
       "      <th>1256</th>\n",
       "      <td>2022-11-09</td>\n",
       "      <td>139.419998</td>\n",
       "      <td>136.660004</td>\n",
       "      <td>138.309998</td>\n",
       "      <td>137.000000</td>\n",
       "      <td>971200.0</td>\n",
       "      <td>137.000000</td>\n",
       "    </tr>\n",
       "    <tr>\n",
       "      <th>1257</th>\n",
       "      <td>2022-11-10</td>\n",
       "      <td>146.720001</td>\n",
       "      <td>142.529999</td>\n",
       "      <td>142.869995</td>\n",
       "      <td>146.300003</td>\n",
       "      <td>1591900.0</td>\n",
       "      <td>146.300003</td>\n",
       "    </tr>\n",
       "    <tr>\n",
       "      <th>1258</th>\n",
       "      <td>2022-11-11</td>\n",
       "      <td>149.740005</td>\n",
       "      <td>146.350006</td>\n",
       "      <td>147.119995</td>\n",
       "      <td>148.309998</td>\n",
       "      <td>1227500.0</td>\n",
       "      <td>148.309998</td>\n",
       "    </tr>\n",
       "  </tbody>\n",
       "</table>\n",
       "<p>1259 rows × 7 columns</p>\n",
       "</div>"
      ],
      "text/plain": [
       "            Date        High         Low        Open       Close     Volume  \\\n",
       "0     2017-11-13   67.389999   66.250000   66.449997   67.129997  1536400.0   \n",
       "1     2017-11-14   67.800003   66.889999   66.980003   67.459999  2426200.0   \n",
       "2     2017-11-15   67.559998   66.910004   67.290001   67.309998  2042300.0   \n",
       "3     2017-11-16   68.949997   67.449997   67.500000   68.739998  2300400.0   \n",
       "4     2017-11-17   69.089996   68.290001   68.529999   68.790001  1823100.0   \n",
       "...          ...         ...         ...         ...         ...        ...   \n",
       "1254  2022-11-07  138.080002  135.559998  136.850006  138.029999  1213600.0   \n",
       "1255  2022-11-08  140.690002  136.600006  138.500000  138.750000  1028100.0   \n",
       "1256  2022-11-09  139.419998  136.660004  138.309998  137.000000   971200.0   \n",
       "1257  2022-11-10  146.720001  142.529999  142.869995  146.300003  1591900.0   \n",
       "1258  2022-11-11  149.740005  146.350006  147.119995  148.309998  1227500.0   \n",
       "\n",
       "       Adj Close  \n",
       "0      64.595924  \n",
       "1      64.913490  \n",
       "2      64.769135  \n",
       "3      66.145172  \n",
       "4      66.193275  \n",
       "...          ...  \n",
       "1254  138.029999  \n",
       "1255  138.750000  \n",
       "1256  137.000000  \n",
       "1257  146.300003  \n",
       "1258  148.309998  \n",
       "\n",
       "[1259 rows x 7 columns]"
      ]
     },
     "execution_count": 16,
     "metadata": {},
     "output_type": "execute_result"
    }
   ],
   "source": [
    "df_A"
   ]
  },
  {
   "cell_type": "code",
   "execution_count": 10,
   "id": "addc3a49-4e0c-468c-8bcb-9a7c2cd7e94c",
   "metadata": {},
   "outputs": [
    {
     "data": {
      "text/plain": [
       "False"
      ]
     },
     "execution_count": 10,
     "metadata": {},
     "output_type": "execute_result"
    }
   ],
   "source": [
    "df['Close'].equals(df['Adj Close'])"
   ]
  },
  {
   "cell_type": "code",
   "execution_count": 17,
   "id": "566956e7-521c-4955-8293-f7763995da57",
   "metadata": {},
   "outputs": [],
   "source": [
    "df_CINF = pd.read_csv('CINF.csv') #it does not contain the same columns"
   ]
  },
  {
   "cell_type": "code",
   "execution_count": 18,
   "id": "be1c6e0a-80fe-4408-9631-ca5169059213",
   "metadata": {},
   "outputs": [
    {
     "data": {
      "text/html": [
       "<div>\n",
       "<style scoped>\n",
       "    .dataframe tbody tr th:only-of-type {\n",
       "        vertical-align: middle;\n",
       "    }\n",
       "\n",
       "    .dataframe tbody tr th {\n",
       "        vertical-align: top;\n",
       "    }\n",
       "\n",
       "    .dataframe thead th {\n",
       "        text-align: right;\n",
       "    }\n",
       "</style>\n",
       "<table border=\"1\" class=\"dataframe\">\n",
       "  <thead>\n",
       "    <tr style=\"text-align: right;\">\n",
       "      <th></th>\n",
       "      <th>Date</th>\n",
       "      <th>High</th>\n",
       "      <th>Low</th>\n",
       "      <th>Open</th>\n",
       "      <th>Close</th>\n",
       "      <th>Volume</th>\n",
       "      <th>Adj Close</th>\n",
       "    </tr>\n",
       "  </thead>\n",
       "  <tbody>\n",
       "    <tr>\n",
       "      <th>0</th>\n",
       "      <td>2017-11-13</td>\n",
       "      <td>73.669998</td>\n",
       "      <td>73.010002</td>\n",
       "      <td>73.260002</td>\n",
       "      <td>73.300003</td>\n",
       "      <td>674000.0</td>\n",
       "      <td>63.926807</td>\n",
       "    </tr>\n",
       "    <tr>\n",
       "      <th>1</th>\n",
       "      <td>2017-11-14</td>\n",
       "      <td>74.129997</td>\n",
       "      <td>72.690002</td>\n",
       "      <td>73.080002</td>\n",
       "      <td>74.059998</td>\n",
       "      <td>438600.0</td>\n",
       "      <td>64.589600</td>\n",
       "    </tr>\n",
       "    <tr>\n",
       "      <th>2</th>\n",
       "      <td>2017-11-15</td>\n",
       "      <td>74.519997</td>\n",
       "      <td>73.400002</td>\n",
       "      <td>73.940002</td>\n",
       "      <td>74.110001</td>\n",
       "      <td>455900.0</td>\n",
       "      <td>64.633209</td>\n",
       "    </tr>\n",
       "    <tr>\n",
       "      <th>3</th>\n",
       "      <td>2017-11-16</td>\n",
       "      <td>74.290001</td>\n",
       "      <td>73.290001</td>\n",
       "      <td>74.169998</td>\n",
       "      <td>73.589996</td>\n",
       "      <td>630000.0</td>\n",
       "      <td>64.179688</td>\n",
       "    </tr>\n",
       "    <tr>\n",
       "      <th>4</th>\n",
       "      <td>2017-11-17</td>\n",
       "      <td>73.919998</td>\n",
       "      <td>73.160004</td>\n",
       "      <td>73.919998</td>\n",
       "      <td>73.459999</td>\n",
       "      <td>2572300.0</td>\n",
       "      <td>64.066315</td>\n",
       "    </tr>\n",
       "    <tr>\n",
       "      <th>...</th>\n",
       "      <td>...</td>\n",
       "      <td>...</td>\n",
       "      <td>...</td>\n",
       "      <td>...</td>\n",
       "      <td>...</td>\n",
       "      <td>...</td>\n",
       "      <td>...</td>\n",
       "    </tr>\n",
       "    <tr>\n",
       "      <th>1254</th>\n",
       "      <td>2022-11-07</td>\n",
       "      <td>102.430000</td>\n",
       "      <td>99.370003</td>\n",
       "      <td>99.900002</td>\n",
       "      <td>102.430000</td>\n",
       "      <td>667200.0</td>\n",
       "      <td>102.430000</td>\n",
       "    </tr>\n",
       "    <tr>\n",
       "      <th>1255</th>\n",
       "      <td>2022-11-08</td>\n",
       "      <td>103.290001</td>\n",
       "      <td>101.500000</td>\n",
       "      <td>102.040001</td>\n",
       "      <td>103.150002</td>\n",
       "      <td>682300.0</td>\n",
       "      <td>103.150002</td>\n",
       "    </tr>\n",
       "    <tr>\n",
       "      <th>1256</th>\n",
       "      <td>2022-11-09</td>\n",
       "      <td>103.150002</td>\n",
       "      <td>101.279999</td>\n",
       "      <td>102.540001</td>\n",
       "      <td>101.489998</td>\n",
       "      <td>408400.0</td>\n",
       "      <td>101.489998</td>\n",
       "    </tr>\n",
       "    <tr>\n",
       "      <th>1257</th>\n",
       "      <td>2022-11-10</td>\n",
       "      <td>107.699997</td>\n",
       "      <td>103.620003</td>\n",
       "      <td>104.389999</td>\n",
       "      <td>107.550003</td>\n",
       "      <td>989600.0</td>\n",
       "      <td>107.550003</td>\n",
       "    </tr>\n",
       "    <tr>\n",
       "      <th>1258</th>\n",
       "      <td>2022-11-11</td>\n",
       "      <td>110.500000</td>\n",
       "      <td>106.989998</td>\n",
       "      <td>108.000000</td>\n",
       "      <td>110.089996</td>\n",
       "      <td>1041800.0</td>\n",
       "      <td>110.089996</td>\n",
       "    </tr>\n",
       "  </tbody>\n",
       "</table>\n",
       "<p>1259 rows × 7 columns</p>\n",
       "</div>"
      ],
      "text/plain": [
       "            Date        High         Low        Open       Close     Volume  \\\n",
       "0     2017-11-13   73.669998   73.010002   73.260002   73.300003   674000.0   \n",
       "1     2017-11-14   74.129997   72.690002   73.080002   74.059998   438600.0   \n",
       "2     2017-11-15   74.519997   73.400002   73.940002   74.110001   455900.0   \n",
       "3     2017-11-16   74.290001   73.290001   74.169998   73.589996   630000.0   \n",
       "4     2017-11-17   73.919998   73.160004   73.919998   73.459999  2572300.0   \n",
       "...          ...         ...         ...         ...         ...        ...   \n",
       "1254  2022-11-07  102.430000   99.370003   99.900002  102.430000   667200.0   \n",
       "1255  2022-11-08  103.290001  101.500000  102.040001  103.150002   682300.0   \n",
       "1256  2022-11-09  103.150002  101.279999  102.540001  101.489998   408400.0   \n",
       "1257  2022-11-10  107.699997  103.620003  104.389999  107.550003   989600.0   \n",
       "1258  2022-11-11  110.500000  106.989998  108.000000  110.089996  1041800.0   \n",
       "\n",
       "       Adj Close  \n",
       "0      63.926807  \n",
       "1      64.589600  \n",
       "2      64.633209  \n",
       "3      64.179688  \n",
       "4      64.066315  \n",
       "...          ...  \n",
       "1254  102.430000  \n",
       "1255  103.150002  \n",
       "1256  101.489998  \n",
       "1257  107.550003  \n",
       "1258  110.089996  \n",
       "\n",
       "[1259 rows x 7 columns]"
      ]
     },
     "execution_count": 18,
     "metadata": {},
     "output_type": "execute_result"
    }
   ],
   "source": [
    "df_CINF"
   ]
  },
  {
   "cell_type": "code",
   "execution_count": 13,
   "id": "ea806309-d510-44ab-9328-145dd0388610",
   "metadata": {},
   "outputs": [
    {
     "data": {
      "text/plain": [
       "False"
      ]
     },
     "execution_count": 13,
     "metadata": {},
     "output_type": "execute_result"
    }
   ],
   "source": [
    "df['Close'].equals(df['Adj Close'])"
   ]
  },
  {
   "cell_type": "code",
   "execution_count": 24,
   "id": "195a58d3-5b20-4b34-afc2-8901515dd3de",
   "metadata": {},
   "outputs": [],
   "source": [
    "df_CMG = pd.read_csv('CMG.csv') #it contains the same columns"
   ]
  },
  {
   "cell_type": "code",
   "execution_count": 21,
   "id": "67f07849-43d0-4356-b4f5-44efeeca46be",
   "metadata": {},
   "outputs": [
    {
     "data": {
      "text/plain": [
       "True"
      ]
     },
     "execution_count": 21,
     "metadata": {},
     "output_type": "execute_result"
    }
   ],
   "source": [
    "df['Close'].equals(df['Adj Close'])"
   ]
  },
  {
   "cell_type": "code",
   "execution_count": 34,
   "id": "59ebb31f-69ed-45f4-9b3d-a0681361777e",
   "metadata": {},
   "outputs": [],
   "source": [
    "df_LMT = pd.read_csv('LMT.csv') #it does not contain the same columns"
   ]
  },
  {
   "cell_type": "code",
   "execution_count": 23,
   "id": "d2ec5caa-64fa-436f-85cb-7dfce3f0257a",
   "metadata": {},
   "outputs": [
    {
     "data": {
      "text/plain": [
       "False"
      ]
     },
     "execution_count": 23,
     "metadata": {},
     "output_type": "execute_result"
    }
   ],
   "source": [
    "df['Close'].equals(df['Adj Close'])"
   ]
  },
  {
   "cell_type": "markdown",
   "id": "8e3d02d3-8432-48d3-b682-70a743a10031",
   "metadata": {},
   "source": [
    "SECOND TASK - What is the highest and lowest price (Adj Close) each company recorded?"
   ]
  },
  {
   "cell_type": "code",
   "execution_count": 27,
   "id": "f1b4b20a-4372-41b2-bfbf-d49fd7d1d54a",
   "metadata": {},
   "outputs": [
    {
     "data": {
      "text/plain": [
       "59.09390640258789"
      ]
     },
     "execution_count": 27,
     "metadata": {},
     "output_type": "execute_result"
    }
   ],
   "source": [
    "df_A[\"Adj Close\"].min()\n"
   ]
  },
  {
   "cell_type": "code",
   "execution_count": 28,
   "id": "38115d88-d84a-468b-aff6-a34c2c54c860",
   "metadata": {},
   "outputs": [
    {
     "data": {
      "text/plain": [
       "177.9176025390625"
      ]
     },
     "execution_count": 28,
     "metadata": {},
     "output_type": "execute_result"
    }
   ],
   "source": [
    "df_A[\"Adj Close\"].max()"
   ]
  },
  {
   "cell_type": "code",
   "execution_count": 29,
   "id": "93b09056-fd0d-4a3e-b9af-b2752e3e7538",
   "metadata": {},
   "outputs": [
    {
     "data": {
      "text/plain": [
       "45.48640441894531"
      ]
     },
     "execution_count": 29,
     "metadata": {},
     "output_type": "execute_result"
    }
   ],
   "source": [
    "df_CINF[\"Adj Close\"].min()"
   ]
  },
  {
   "cell_type": "code",
   "execution_count": 30,
   "id": "59a3c953-33f3-4a4b-a982-9f30fb796c9c",
   "metadata": {},
   "outputs": [
    {
     "data": {
      "text/plain": [
       "139.4536895751953"
      ]
     },
     "execution_count": 30,
     "metadata": {},
     "output_type": "execute_result"
    }
   ],
   "source": [
    "df_CINF[\"Adj Close\"].max()"
   ]
  },
  {
   "cell_type": "code",
   "execution_count": 32,
   "id": "1e85b63b-abea-486c-ad19-ee8dcaebb018",
   "metadata": {},
   "outputs": [
    {
     "data": {
      "text/plain": [
       "251.3300018310547"
      ]
     },
     "execution_count": 32,
     "metadata": {},
     "output_type": "execute_result"
    }
   ],
   "source": [
    "df_CMG[\"Adj Close\"].min()"
   ]
  },
  {
   "cell_type": "code",
   "execution_count": 33,
   "id": "27e2ef31-d811-4d0b-8fb8-cbefdb7a5685",
   "metadata": {},
   "outputs": [
    {
     "data": {
      "text/plain": [
       "1944.050048828125"
      ]
     },
     "execution_count": 33,
     "metadata": {},
     "output_type": "execute_result"
    }
   ],
   "source": [
    "df_CMG[\"Adj Close\"].max()"
   ]
  },
  {
   "cell_type": "code",
   "execution_count": 35,
   "id": "c54b4d0f-1f11-4cbe-a0af-4c6e9d5ba669",
   "metadata": {},
   "outputs": [
    {
     "data": {
      "text/plain": [
       "224.6717529296875"
      ]
     },
     "execution_count": 35,
     "metadata": {},
     "output_type": "execute_result"
    }
   ],
   "source": [
    "df_LMT[\"Adj Close\"].min()"
   ]
  },
  {
   "cell_type": "code",
   "execution_count": 36,
   "id": "d4ca16d5-3241-45e7-9336-3b10753d5ce3",
   "metadata": {},
   "outputs": [
    {
     "data": {
      "text/plain": [
       "494.1199951171875"
      ]
     },
     "execution_count": 36,
     "metadata": {},
     "output_type": "execute_result"
    }
   ],
   "source": [
    "df_LMT[\"Adj Close\"].max()"
   ]
  },
  {
   "cell_type": "markdown",
   "id": "d8d63624-3336-497c-9f9e-eacb64e838da",
   "metadata": {},
   "source": [
    "FOURTH TASK - When did each company record the highest gain and highest loss for the day?\n",
    "(logarithmic loss)."
   ]
  },
  {
   "cell_type": "code",
   "execution_count": 42,
   "id": "bcbb9e8f-566f-45c2-a1bd-a9593f2e8c05",
   "metadata": {},
   "outputs": [
    {
     "name": "stdout",
     "output_type": "stream",
     "text": [
      "Open     959\n",
      "Close    958\n",
      "dtype: int64\n"
     ]
    }
   ],
   "source": [
    "print(df_A[['Open', 'Close']].idxmax())"
   ]
  },
  {
   "cell_type": "code",
   "execution_count": 43,
   "id": "47608ec9-e97f-4bda-9e30-6625ab33ac7c",
   "metadata": {},
   "outputs": [
    {
     "name": "stdout",
     "output_type": "stream",
     "text": [
      "Open     1116\n",
      "Close    1115\n",
      "dtype: int64\n"
     ]
    }
   ],
   "source": [
    "print(df_CINF[['Open', 'Close']].idxmax())"
   ]
  },
  {
   "cell_type": "code",
   "execution_count": 44,
   "id": "3329ddad-23ef-4f19-a936-3dd2624b39e6",
   "metadata": {},
   "outputs": [
    {
     "name": "stdout",
     "output_type": "stream",
     "text": [
      "Open     972\n",
      "Close    971\n",
      "dtype: int64\n"
     ]
    }
   ],
   "source": [
    "print(df_CMG[['Open', 'Close']].idxmax())"
   ]
  },
  {
   "cell_type": "code",
   "execution_count": 45,
   "id": "db959bcd-d7bf-435d-a51c-e331f87b9fc8",
   "metadata": {},
   "outputs": [
    {
     "name": "stdout",
     "output_type": "stream",
     "text": [
      "Open     1256\n",
      "Close    1255\n",
      "dtype: int64\n"
     ]
    }
   ],
   "source": [
    "print(df_LMT[['Open', 'Close']].idxmax())"
   ]
  },
  {
   "cell_type": "markdown",
   "id": "2ac71976-30d1-4d75-80ad-76ac4beeedcf",
   "metadata": {},
   "source": [
    "THIRD TASK - Calculate logarithmic returns from Adj Close. For each company report on\n",
    "its, min, man, mean, median of the return distribution."
   ]
  },
  {
   "cell_type": "code",
   "execution_count": 46,
   "id": "659cdfaf-47a2-4194-82a8-6ec96d87d7ff",
   "metadata": {},
   "outputs": [],
   "source": [
    "import numpy as np"
   ]
  },
  {
   "cell_type": "code",
   "execution_count": 47,
   "id": "3ccf900a-1986-44cf-ac82-be78f3f6b35e",
   "metadata": {},
   "outputs": [],
   "source": [
    "df_A['logarithm_base2'] = np.log2(df_A['Adj Close'])"
   ]
  },
  {
   "cell_type": "code",
   "execution_count": 48,
   "id": "ff0b0293-d885-4cd8-9b65-fbaed46984af",
   "metadata": {},
   "outputs": [
    {
     "name": "stdout",
     "output_type": "stream",
     "text": [
      "            Date        High         Low        Open       Close     Volume  \\\n",
      "0     2017-11-13   67.389999   66.250000   66.449997   67.129997  1536400.0   \n",
      "1     2017-11-14   67.800003   66.889999   66.980003   67.459999  2426200.0   \n",
      "2     2017-11-15   67.559998   66.910004   67.290001   67.309998  2042300.0   \n",
      "3     2017-11-16   68.949997   67.449997   67.500000   68.739998  2300400.0   \n",
      "4     2017-11-17   69.089996   68.290001   68.529999   68.790001  1823100.0   \n",
      "...          ...         ...         ...         ...         ...        ...   \n",
      "1254  2022-11-07  138.080002  135.559998  136.850006  138.029999  1213600.0   \n",
      "1255  2022-11-08  140.690002  136.600006  138.500000  138.750000  1028100.0   \n",
      "1256  2022-11-09  139.419998  136.660004  138.309998  137.000000   971200.0   \n",
      "1257  2022-11-10  146.720001  142.529999  142.869995  146.300003  1591900.0   \n",
      "1258  2022-11-11  149.740005  146.350006  147.119995  148.309998  1227500.0   \n",
      "\n",
      "       Adj Close  logarithm_base2  \n",
      "0      64.595924         6.013371  \n",
      "1      64.913490         6.020446  \n",
      "2      64.769135         6.017235  \n",
      "3      66.145172         6.047564  \n",
      "4      66.193275         6.048613  \n",
      "...          ...              ...  \n",
      "1254  138.029999         7.108838  \n",
      "1255  138.750000         7.116344  \n",
      "1256  137.000000         7.098032  \n",
      "1257  146.300003         7.192786  \n",
      "1258  148.309998         7.212472  \n",
      "\n",
      "[1259 rows x 8 columns]\n"
     ]
    }
   ],
   "source": [
    "print(df_A)"
   ]
  },
  {
   "cell_type": "code",
   "execution_count": null,
   "id": "67faee7a-e8dc-4a92-b6a0-1df78f3ac278",
   "metadata": {},
   "outputs": [],
   "source": [
    "df_CINF['logarithm_base2'] = np.log2(df_CINF['Adj Close'])"
   ]
  },
  {
   "cell_type": "code",
   "execution_count": null,
   "id": "d6a8c8d6-8cd4-4c28-a028-b1fa75e4fa5e",
   "metadata": {},
   "outputs": [],
   "source": [
    "df_CMG['logarithm_base2'] = np.log2(df_CMG['Adj Close'])"
   ]
  },
  {
   "cell_type": "code",
   "execution_count": null,
   "id": "bdafca5e-3c3b-40ad-a04c-0ae52337b6af",
   "metadata": {},
   "outputs": [],
   "source": [
    "df_LMT['logarithm_base2'] = np.log2(df_LMT['Adj Close'])"
   ]
  },
  {
   "cell_type": "code",
   "execution_count": 51,
   "id": "f8ee1dcc-6de8-4c45-8f1d-52bf57db5981",
   "metadata": {},
   "outputs": [
    {
     "data": {
      "text/plain": [
       "6.419175309740473"
      ]
     },
     "execution_count": 51,
     "metadata": {},
     "output_type": "execute_result"
    }
   ],
   "source": [
    "df_A['logarithm_base2'].median()"
   ]
  },
  {
   "cell_type": "code",
   "execution_count": null,
   "id": "01e472d3-1cab-4cab-8083-3f0412b235b1",
   "metadata": {},
   "outputs": [],
   "source": [
    "df_CINF['logarithm_base2'].median()"
   ]
  },
  {
   "cell_type": "code",
   "execution_count": null,
   "id": "48578bdf-c399-4508-be12-50c81179d2d3",
   "metadata": {},
   "outputs": [],
   "source": [
    "df_CMG['logarithm_base2'].median()"
   ]
  },
  {
   "cell_type": "code",
   "execution_count": null,
   "id": "d9cf2174-021e-4283-a5e5-a50a34bec9e1",
   "metadata": {},
   "outputs": [],
   "source": [
    "df_LMT['logarithm_base2'].median()"
   ]
  },
  {
   "cell_type": "code",
   "execution_count": 52,
   "id": "12fba8d5-5d83-4ffc-966c-e44c7eb985f3",
   "metadata": {},
   "outputs": [
    {
     "data": {
      "text/plain": [
       "6.5505139705483515"
      ]
     },
     "execution_count": 52,
     "metadata": {},
     "output_type": "execute_result"
    }
   ],
   "source": [
    "df_A['logarithm_base2'].mean()"
   ]
  },
  {
   "cell_type": "code",
   "execution_count": null,
   "id": "f3087334-b7cf-4e01-8866-c9b8ca87ef04",
   "metadata": {},
   "outputs": [],
   "source": [
    "df_CINF['logarithm_base2'].mean()"
   ]
  },
  {
   "cell_type": "code",
   "execution_count": null,
   "id": "1d880316-0b43-47e0-9e34-60c1346bbc0f",
   "metadata": {},
   "outputs": [],
   "source": [
    "df_CMG['logarithm_base2'].mean()"
   ]
  },
  {
   "cell_type": "code",
   "execution_count": null,
   "id": "97e5fd73-dd1a-4a4c-8ca3-8e18d0497092",
   "metadata": {},
   "outputs": [],
   "source": [
    "df_LMT['logarithm_base2'].mean()"
   ]
  }
 ],
 "metadata": {
  "kernelspec": {
   "display_name": "Python 3 (ipykernel)",
   "language": "python",
   "name": "python3"
  },
  "language_info": {
   "codemirror_mode": {
    "name": "ipython",
    "version": 3
   },
   "file_extension": ".py",
   "mimetype": "text/x-python",
   "name": "python",
   "nbconvert_exporter": "python",
   "pygments_lexer": "ipython3",
   "version": "3.12.1"
  }
 },
 "nbformat": 4,
 "nbformat_minor": 5
}
